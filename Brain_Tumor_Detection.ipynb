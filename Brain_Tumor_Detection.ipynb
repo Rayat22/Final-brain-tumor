{
 "cells": [
  {
   "cell_type": "code",
   "execution_count": 1,
   "id": "a9395930-9aaa-47ad-aed5-34092c9236e2",
   "metadata": {},
   "outputs": [],
   "source": [
    "import os\n",
    "import cv2\n",
    "import numpy as np\n",
    "import pandas as pd\n",
    "import matplotlib.pyplot as plt\n",
    "import seaborn as sns\n",
    "from tqdm import tqdm\n",
    "\n",
    "import torch\n",
    "import torch.nn as nn\n",
    "from torch.utils.data import DataLoader\n",
    "from torch.autograd import Variable\n",
    "from torchvision import transforms, datasets\n",
    "from sklearn.model_selection import train_test_split\n",
    "\n",
    "import warnings\n",
    "warnings.filterwarnings(\"ignore\")\n"
   ]
  },
  {
   "cell_type": "code",
   "execution_count": 2,
   "id": "50afccfd-2c1b-41f3-ad3b-dfb3e2d818a9",
   "metadata": {},
   "outputs": [],
   "source": [
    "# Paths to the dataset\n",
    "train_path = r\"C:\\Users\\r4y4t\\Desktop\\Brain tumor detector\\All\\brain tumor model\\Testing\"\n",
    "test_path = r\"C:\\Users\\r4y4t\\Desktop\\Brain tumor detector\\All\\brain tumor model\\Testing\"\n"
   ]
  },
  {
   "cell_type": "code",
   "execution_count": 3,
   "id": "b3fa419a-862d-4d2b-8689-6c9156f00397",
   "metadata": {},
   "outputs": [
    {
     "name": "stdout",
     "output_type": "stream",
     "text": [
      "The classes are: ['glioma_tumor', 'meningioma_tumor', 'no_tumor', 'pituitary_tumor']\n"
     ]
    }
   ],
   "source": [
    "# Transformations for the images\n",
    "transforming_img = transforms.Compose([\n",
    "    transforms.Resize((150, 150)),\n",
    "    transforms.RandomHorizontalFlip(),\n",
    "    transforms.ToTensor(),\n",
    "    transforms.Normalize([0.5, 0.5, 0.5], [0.5, 0.5, 0.5])\n",
    "])\n",
    "\n",
    "# DataLoaders\n",
    "train_loader = DataLoader(\n",
    "    datasets.ImageFolder(train_path, transform=transforming_img),\n",
    "    batch_size=64, shuffle=True\n",
    ")\n",
    "\n",
    "test_loader = DataLoader(\n",
    "    datasets.ImageFolder(test_path, transform=transforming_img),\n",
    "    batch_size=32, shuffle=True\n",
    ")\n",
    "\n",
    "# Extracting class names\n",
    "classes = os.listdir(train_path)\n",
    "print(f\"The classes are: {classes}\")\n"
   ]
  },
  {
   "cell_type": "code",
   "execution_count": 4,
   "id": "f2cbf74b-92e0-4778-8214-01e6d4ed9346",
   "metadata": {},
   "outputs": [],
   "source": [
    "class ConvNet(nn.Module):\n",
    "    def __init__(self, num_classes=4):\n",
    "        super(ConvNet, self).__init__()\n",
    "        self.conv1 = nn.Conv2d(3, 12, kernel_size=3, stride=1, padding=1)\n",
    "        self.bn1 = nn.BatchNorm2d(12)\n",
    "        self.relu1 = nn.ReLU()\n",
    "        self.pool = nn.MaxPool2d(kernel_size=2)\n",
    "\n",
    "        self.conv2 = nn.Conv2d(12, 20, kernel_size=3, stride=1, padding=1)\n",
    "        self.relu2 = nn.ReLU()\n",
    "\n",
    "        self.conv3 = nn.Conv2d(20, 32, kernel_size=3, stride=1, padding=1)\n",
    "        self.bn3 = nn.BatchNorm2d(32)\n",
    "        self.relu3 = nn.ReLU()\n",
    "\n",
    "        self.fc = nn.Linear(32 * 75 * 75, num_classes)\n",
    "\n",
    "    def forward(self, input):\n",
    "        output = self.conv1(input)\n",
    "        output = self.bn1(output)\n",
    "        output = self.relu1(output)\n",
    "        output = self.pool(output)\n",
    "        output = self.conv2(output)\n",
    "        output = self.relu2(output)\n",
    "        output = self.conv3(output)\n",
    "        output = self.bn3(output)\n",
    "        output = self.relu3(output)\n",
    "        output = output.view(-1, 32 * 75 * 75)\n",
    "        output = self.fc(output)\n",
    "        return output\n",
    "\n",
    "# Initialize the model\n",
    "device = torch.device('cuda' if torch.cuda.is_available() else 'cpu')\n",
    "model = ConvNet(num_classes=len(classes)).to(device)\n"
   ]
  },
  {
   "cell_type": "code",
   "execution_count": 5,
   "id": "fc748ef2-9387-4bdc-8f61-3f954bf8cc10",
   "metadata": {},
   "outputs": [],
   "source": [
    "optimizer = torch.optim.Adam(model.parameters(), lr=0.001, weight_decay=0.0001)\n",
    "loss_function = nn.CrossEntropyLoss()\n"
   ]
  },
  {
   "cell_type": "code",
   "execution_count": 6,
   "id": "6c60d6e9-9718-4801-a8a2-1fd6631bbc98",
   "metadata": {},
   "outputs": [
    {
     "name": "stdout",
     "output_type": "stream",
     "text": [
      "Epoch 1, Train Loss: 23.6454, Train Accuracy: 0.3376, Test Accuracy: 0.4112\n",
      "Epoch 2, Train Loss: 7.1788, Train Accuracy: 0.5761, Test Accuracy: 0.2107\n",
      "Epoch 3, Train Loss: 4.9551, Train Accuracy: 0.6117, Test Accuracy: 0.6269\n",
      "Epoch 4, Train Loss: 3.1666, Train Accuracy: 0.6980, Test Accuracy: 0.6574\n",
      "Epoch 5, Train Loss: 1.7278, Train Accuracy: 0.7843, Test Accuracy: 0.7487\n",
      "Epoch 6, Train Loss: 0.9259, Train Accuracy: 0.8528, Test Accuracy: 0.7640\n",
      "Epoch 7, Train Loss: 0.9527, Train Accuracy: 0.8985, Test Accuracy: 0.8350\n",
      "Epoch 8, Train Loss: 0.3250, Train Accuracy: 0.9315, Test Accuracy: 0.9721\n",
      "Epoch 9, Train Loss: 0.2630, Train Accuracy: 0.9594, Test Accuracy: 0.9797\n",
      "Epoch 10, Train Loss: 0.2571, Train Accuracy: 0.9695, Test Accuracy: 0.9873\n",
      "Epoch 11, Train Loss: 0.1012, Train Accuracy: 0.9848, Test Accuracy: 0.9746\n",
      "Epoch 12, Train Loss: 0.0740, Train Accuracy: 0.9822, Test Accuracy: 0.9898\n",
      "Epoch 13, Train Loss: 0.1110, Train Accuracy: 0.9924, Test Accuracy: 0.9822\n",
      "Epoch 14, Train Loss: 0.0788, Train Accuracy: 0.9873, Test Accuracy: 0.9898\n",
      "Epoch 15, Train Loss: 0.0548, Train Accuracy: 0.9898, Test Accuracy: 0.9949\n",
      "Epoch 16, Train Loss: 0.0232, Train Accuracy: 0.9975, Test Accuracy: 0.9924\n",
      "Epoch 17, Train Loss: 0.0659, Train Accuracy: 0.9949, Test Accuracy: 0.9924\n",
      "Epoch 18, Train Loss: 0.1083, Train Accuracy: 0.9924, Test Accuracy: 0.9924\n",
      "Epoch 19, Train Loss: 0.0358, Train Accuracy: 0.9949, Test Accuracy: 0.9949\n",
      "Epoch 20, Train Loss: 0.0607, Train Accuracy: 0.9949, Test Accuracy: 0.9949\n"
     ]
    }
   ],
   "source": [
    "# Training loop\n",
    "best_accuracy = 0.0\n",
    "train_count = len(train_loader.dataset)\n",
    "test_count = len(test_loader.dataset)\n",
    "\n",
    "for epoch in range(20):\n",
    "    model.train()\n",
    "    train_accuracy = 0.0\n",
    "    train_loss = 0.0\n",
    "\n",
    "    for images, labels in train_loader:\n",
    "        images, labels = images.to(device), labels.to(device)\n",
    "\n",
    "        optimizer.zero_grad()\n",
    "        outputs = model(images)\n",
    "        loss = loss_function(outputs, labels)\n",
    "        loss.backward()\n",
    "        optimizer.step()\n",
    "\n",
    "        train_loss += loss.item() * images.size(0)\n",
    "        _, predictions = torch.max(outputs, 1)\n",
    "        train_accuracy += (predictions == labels).sum().item()\n",
    "\n",
    "    train_accuracy /= train_count\n",
    "    train_loss /= train_count\n",
    "\n",
    "    # Evaluate on test set\n",
    "    model.eval()\n",
    "    test_accuracy = 0.0\n",
    "    with torch.no_grad():\n",
    "        for images, labels in test_loader:\n",
    "            images, labels = images.to(device), labels.to(device)\n",
    "            outputs = model(images)\n",
    "            _, predictions = torch.max(outputs, 1)\n",
    "            test_accuracy += (predictions == labels).sum().item()\n",
    "\n",
    "    test_accuracy /= test_count\n",
    "\n",
    "    print(f\"Epoch {epoch+1}, Train Loss: {train_loss:.4f}, Train Accuracy: {train_accuracy:.4f}, Test Accuracy: {test_accuracy:.4f}\")\n",
    "\n",
    "    # Save the model if test accuracy improves\n",
    "    if test_accuracy > best_accuracy:\n",
    "        torch.save(model.state_dict(), r\"C:\\Users\\r4y4t\\Desktop\\Brain tumor detector\\All\\brain_tumor_model.pth\")  \n",
    "        best_accuracy = test_accuracy  \n"
   ]
  },
  {
   "cell_type": "code",
   "execution_count": 7,
   "id": "50738a0b-2094-4d67-a6c3-304b3f93697b",
   "metadata": {},
   "outputs": [
    {
     "name": "stdout",
     "output_type": "stream",
     "text": [
      "C:\\Users\\r4y4t\\AppData\\Local\\Microsoft\\WindowsApps\\PythonSoftwareFoundation.Python.3.10_qbz5n2kfra8p0\\python.exe\n"
     ]
    }
   ],
   "source": [
    "import sys\n",
    "print(sys.executable)"
   ]
  },
  {
   "cell_type": "code",
   "execution_count": 8,
   "id": "afb21f64-1fe1-41c7-b934-7a2cbfcac18c",
   "metadata": {},
   "outputs": [
    {
     "name": "stdout",
     "output_type": "stream",
     "text": [
      "Requirement already satisfied: tqdm in c:\\users\\r4y4t\\appdata\\local\\packages\\pythonsoftwarefoundation.python.3.10_qbz5n2kfra8p0\\localcache\\local-packages\\python310\\site-packages (4.67.1)\n",
      "Requirement already satisfied: colorama in c:\\users\\r4y4t\\appdata\\local\\packages\\pythonsoftwarefoundation.python.3.10_qbz5n2kfra8p0\\localcache\\local-packages\\python310\\site-packages (from tqdm) (0.4.6)\n"
     ]
    }
   ],
   "source": [
    "!{sys.executable} -m pip install tqdm\n"
   ]
  },
  {
   "cell_type": "code",
   "execution_count": 9,
   "id": "cbdcc73b-9979-4954-bcab-65816a02493b",
   "metadata": {},
   "outputs": [
    {
     "name": "stderr",
     "output_type": "stream",
     "text": [
      "100%|██████████| 10/10 [00:00<?, ?it/s]\n"
     ]
    }
   ],
   "source": [
    "from tqdm import tqdm\n",
    "for i in tqdm(range(10)):\n",
    "    pass\n",
    "\n"
   ]
  },
  {
   "cell_type": "code",
   "execution_count": 10,
   "id": "1ffe8f36-7026-4e7f-b6a1-695859619be1",
   "metadata": {},
   "outputs": [
    {
     "name": "stdout",
     "output_type": "stream",
     "text": [
      "2.6.0+cpu\n"
     ]
    }
   ],
   "source": [
    "import torch\n",
    "print(torch.__version__)\n"
   ]
  },
  {
   "cell_type": "code",
   "execution_count": null,
   "id": "ec25b8d9-405b-4f82-a2a6-e8ab3264e707",
   "metadata": {},
   "outputs": [],
   "source": []
  }
 ],
 "metadata": {
  "kernelspec": {
   "display_name": "Python 3",
   "language": "python",
   "name": "python3"
  },
  "language_info": {
   "codemirror_mode": {
    "name": "ipython",
    "version": 3
   },
   "file_extension": ".py",
   "mimetype": "text/x-python",
   "name": "python",
   "nbconvert_exporter": "python",
   "pygments_lexer": "ipython3",
   "version": "3.10.11"
  }
 },
 "nbformat": 4,
 "nbformat_minor": 5
}
